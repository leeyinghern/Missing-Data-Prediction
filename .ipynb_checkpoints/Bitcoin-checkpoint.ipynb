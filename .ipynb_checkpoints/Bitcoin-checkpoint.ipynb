{
 "cells": [
  {
   "cell_type": "code",
   "execution_count": 1,
   "id": "7c35851c",
   "metadata": {},
   "outputs": [],
   "source": [
    "import tensorflow as tf\n",
    "import pandas as pd\n",
    "import matplotlib.pyplot as plt"
   ]
  },
  {
   "cell_type": "code",
   "execution_count": 2,
   "id": "c6866d80",
   "metadata": {},
   "outputs": [
    {
     "data": {
      "text/html": [
       "<div>\n",
       "<style scoped>\n",
       "    .dataframe tbody tr th:only-of-type {\n",
       "        vertical-align: middle;\n",
       "    }\n",
       "\n",
       "    .dataframe tbody tr th {\n",
       "        vertical-align: top;\n",
       "    }\n",
       "\n",
       "    .dataframe thead th {\n",
       "        text-align: right;\n",
       "    }\n",
       "</style>\n",
       "<table border=\"1\" class=\"dataframe\">\n",
       "  <thead>\n",
       "    <tr style=\"text-align: right;\">\n",
       "      <th></th>\n",
       "      <th>Currency</th>\n",
       "      <th>Closing Price (USD)</th>\n",
       "      <th>24h Open (USD)</th>\n",
       "      <th>24h High (USD)</th>\n",
       "      <th>24h Low (USD)</th>\n",
       "    </tr>\n",
       "    <tr>\n",
       "      <th>Date</th>\n",
       "      <th></th>\n",
       "      <th></th>\n",
       "      <th></th>\n",
       "      <th></th>\n",
       "      <th></th>\n",
       "    </tr>\n",
       "  </thead>\n",
       "  <tbody>\n",
       "    <tr>\n",
       "      <th>2014-11-04</th>\n",
       "      <td>BTC</td>\n",
       "      <td>324.467934</td>\n",
       "      <td>323.826186</td>\n",
       "      <td>333.539527</td>\n",
       "      <td>323.106623</td>\n",
       "    </tr>\n",
       "    <tr>\n",
       "      <th>2014-11-05</th>\n",
       "      <td>BTC</td>\n",
       "      <td>328.644408</td>\n",
       "      <td>324.424164</td>\n",
       "      <td>330.671610</td>\n",
       "      <td>320.902900</td>\n",
       "    </tr>\n",
       "    <tr>\n",
       "      <th>2014-11-06</th>\n",
       "      <td>BTC</td>\n",
       "      <td>337.921358</td>\n",
       "      <td>328.653046</td>\n",
       "      <td>342.384170</td>\n",
       "      <td>328.597125</td>\n",
       "    </tr>\n",
       "    <tr>\n",
       "      <th>2014-11-07</th>\n",
       "      <td>BTC</td>\n",
       "      <td>348.992860</td>\n",
       "      <td>337.921358</td>\n",
       "      <td>352.585895</td>\n",
       "      <td>336.236830</td>\n",
       "    </tr>\n",
       "    <tr>\n",
       "      <th>2014-11-08</th>\n",
       "      <td>BTC</td>\n",
       "      <td>341.459753</td>\n",
       "      <td>348.992860</td>\n",
       "      <td>351.651854</td>\n",
       "      <td>340.196145</td>\n",
       "    </tr>\n",
       "    <tr>\n",
       "      <th>...</th>\n",
       "      <td>...</td>\n",
       "      <td>...</td>\n",
       "      <td>...</td>\n",
       "      <td>...</td>\n",
       "      <td>...</td>\n",
       "    </tr>\n",
       "    <tr>\n",
       "      <th>2022-01-05</th>\n",
       "      <td>BTC</td>\n",
       "      <td>45837.130344</td>\n",
       "      <td>46436.125952</td>\n",
       "      <td>47501.971144</td>\n",
       "      <td>45568.600000</td>\n",
       "    </tr>\n",
       "    <tr>\n",
       "      <th>2022-01-06</th>\n",
       "      <td>BTC</td>\n",
       "      <td>43428.699545</td>\n",
       "      <td>45836.905984</td>\n",
       "      <td>47058.500000</td>\n",
       "      <td>42503.880401</td>\n",
       "    </tr>\n",
       "    <tr>\n",
       "      <th>2022-01-07</th>\n",
       "      <td>BTC</td>\n",
       "      <td>43107.257821</td>\n",
       "      <td>43432.053752</td>\n",
       "      <td>43753.492230</td>\n",
       "      <td>42435.402000</td>\n",
       "    </tr>\n",
       "    <tr>\n",
       "      <th>2022-01-08</th>\n",
       "      <td>BTC</td>\n",
       "      <td>41534.350712</td>\n",
       "      <td>43106.487593</td>\n",
       "      <td>43129.826810</td>\n",
       "      <td>40745.702117</td>\n",
       "    </tr>\n",
       "    <tr>\n",
       "      <th>2022-01-09</th>\n",
       "      <td>BTC</td>\n",
       "      <td>41687.227593</td>\n",
       "      <td>41535.495343</td>\n",
       "      <td>42308.143821</td>\n",
       "      <td>40562.490000</td>\n",
       "    </tr>\n",
       "  </tbody>\n",
       "</table>\n",
       "<p>2624 rows × 5 columns</p>\n",
       "</div>"
      ],
      "text/plain": [
       "           Currency  Closing Price (USD)  24h Open (USD)  24h High (USD)  \\\n",
       "Date                                                                       \n",
       "2014-11-04      BTC           324.467934      323.826186      333.539527   \n",
       "2014-11-05      BTC           328.644408      324.424164      330.671610   \n",
       "2014-11-06      BTC           337.921358      328.653046      342.384170   \n",
       "2014-11-07      BTC           348.992860      337.921358      352.585895   \n",
       "2014-11-08      BTC           341.459753      348.992860      351.651854   \n",
       "...             ...                  ...             ...             ...   \n",
       "2022-01-05      BTC         45837.130344    46436.125952    47501.971144   \n",
       "2022-01-06      BTC         43428.699545    45836.905984    47058.500000   \n",
       "2022-01-07      BTC         43107.257821    43432.053752    43753.492230   \n",
       "2022-01-08      BTC         41534.350712    43106.487593    43129.826810   \n",
       "2022-01-09      BTC         41687.227593    41535.495343    42308.143821   \n",
       "\n",
       "            24h Low (USD)  \n",
       "Date                       \n",
       "2014-11-04     323.106623  \n",
       "2014-11-05     320.902900  \n",
       "2014-11-06     328.597125  \n",
       "2014-11-07     336.236830  \n",
       "2014-11-08     340.196145  \n",
       "...                   ...  \n",
       "2022-01-05   45568.600000  \n",
       "2022-01-06   42503.880401  \n",
       "2022-01-07   42435.402000  \n",
       "2022-01-08   40745.702117  \n",
       "2022-01-09   40562.490000  \n",
       "\n",
       "[2624 rows x 5 columns]"
      ]
     },
     "execution_count": 2,
     "metadata": {},
     "output_type": "execute_result"
    }
   ],
   "source": [
    "df = pd.read_csv(\"BTC_USD_2014-11-04_2022-01-09-CoinDesk.csv\",\n",
    "                parse_dates = [\"Date\"],\n",
    "                index_col = [\"Date\"]\n",
    "                )\n",
    "df"
   ]
  },
  {
   "cell_type": "code",
   "execution_count": 3,
   "id": "4f4fd4cc",
   "metadata": {},
   "outputs": [
    {
     "data": {
      "text/plain": [
       "<AxesSubplot:xlabel='Date'>"
      ]
     },
     "execution_count": 3,
     "metadata": {},
     "output_type": "execute_result"
    },
    {
     "data": {
      "image/png": "[encoded data removed]",
      "text/plain": [
       "<Figure size 432x288 with 1 Axes>"
      ]
     },
     "metadata": {
      "needs_background": "light"
     },
     "output_type": "display_data"
    }
   ],
   "source": [
    "df[\"Closing Price (USD)\"].plot()"
   ]
  },
  {
   "cell_type": "code",
   "execution_count": 4,
   "id": "db95ec33",
   "metadata": {},
   "outputs": [],
   "source": [
    "timesteps = []\n",
    "prices = []\n",
    "\n",
    "for ind,i in df.iterrows():\n",
    "    timesteps.append(ind)\n",
    "    prices.append(i['Closing Price (USD)'])\n",
    "    \n"
   ]
  },
  {
   "cell_type": "markdown",
   "id": "f7c5b3ff",
   "metadata": {},
   "source": [
    "### Splitting time series data\n",
    "<ul>\n",
    "    <li>When splitting time series, we cannot do a random split. We can only do an <b>ordered split</b>, in the sense that we take the first 80% of our data as the training data and the remaining 20% as the test in that fixed order. (Train set = past, test set = future)</li>\n",
    "</ul>\n"
   ]
  },
  {
   "cell_type": "code",
   "execution_count": 5,
   "id": "44534d45",
   "metadata": {},
   "outputs": [],
   "source": [
    "split_size = int(0.8 * len(df))\n",
    "x_train, y_train = timesteps[:split_size], prices[:split_size]\n",
    "x_test, y_test = timesteps[split_size:], prices[split_size:]"
   ]
  },
  {
   "cell_type": "code",
   "execution_count": 6,
   "id": "769b6d65",
   "metadata": {},
   "outputs": [],
   "source": [
    "def plot_series(timesteps, values, format =\".\", start=0, end = None, label=None):\n",
    "    plt.plot(timesteps[start:end], values[start:end], format, label=label)\n",
    "    plt.xlabel(\"Time\")\n",
    "    plt.ylabel(\"BTC Price\")\n",
    "    if label:\n",
    "        plt.legend(fontsize=14) # make label bigger\n",
    "    plt.grid(True)"
   ]
  },
  {
   "cell_type": "code",
   "execution_count": 7,
   "id": "6fb30db2",
   "metadata": {},
   "outputs": [
    {
     "data": {
      "image/png": "[encoded data removed]",
      "text/plain": [
       "<Figure size 432x288 with 1 Axes>"
      ]
     },
     "metadata": {
      "needs_background": "light"
     },
     "output_type": "display_data"
    }
   ],
   "source": [
    "plot_series(timesteps, prices)"
   ]
  },
  {
   "cell_type": "markdown",
   "id": "8c2adc8f",
   "metadata": {},
   "source": [
    "### Naive forecast model (Baseline)\n",
    "\n",
    "<ul>\n",
    "    <li>Naive forecast: We set all forecasts to the value of the last observation. Prediction for value at time t is the value at time t - 1. Assuming that step size = 1</li>\n",
    "</ul>"
   ]
  },
  {
   "cell_type": "code",
   "execution_count": 8,
   "id": "1644fd6e",
   "metadata": {},
   "outputs": [
    {
     "data": {
      "text/plain": [
       "(524, 525)"
      ]
     },
     "execution_count": 8,
     "metadata": {},
     "output_type": "execute_result"
    }
   ],
   "source": [
    "naive_forecast = y_test[:-1]\n",
    "len(naive_forecast), len(y_test)"
   ]
  },
  {
   "cell_type": "code",
   "execution_count": 9,
   "id": "2303ecbc",
   "metadata": {},
   "outputs": [
    {
     "data": {
      "text/plain": [
       "([45837.130344, 43428.699545, 43107.257821, 41534.350712, 41687.227593],\n",
       " [46434.508081, 45837.130344, 43428.699545, 43107.257821, 41534.350712])"
      ]
     },
     "execution_count": 9,
     "metadata": {},
     "output_type": "execute_result"
    }
   ],
   "source": [
    "y_test[-5:], naive_forecast[-5:]"
   ]
  },
  {
   "cell_type": "code",
   "execution_count": 10,
   "id": "3e769b69",
   "metadata": {},
   "outputs": [
    {
     "data": {
      "text/plain": [
       "<matplotlib.legend.Legend at 0x25e4c70ebe0>"
      ]
     },
     "execution_count": 10,
     "metadata": {},
     "output_type": "execute_result"
    },
    {
     "data": {
      "image/png": "[encoded data removed]",
      "text/plain": [
       "<Figure size 1080x576 with 1 Axes>"
      ]
     },
     "metadata": {
      "needs_background": "light"
     },
     "output_type": "display_data"
    }
   ],
   "source": [
    "# plot a naive forecast\n",
    "plt.figure(figsize=(15,8))\n",
    "# plot_series(timesteps=x_train, values=y_train, label=\"Train data\")\n",
    "plot_series(timesteps=x_test, values = y_test,format=\"-\",start=350, label=\"Test data\")\n",
    "plot_series(timesteps=x_test[1:], values=naive_forecast,format=\"-\",start=350, label=\"Forecast\")\n",
    "plt.legend()"
   ]
  },
  {
   "cell_type": "code",
   "execution_count": 11,
   "id": "693aa93a",
   "metadata": {},
   "outputs": [],
   "source": [
    "# Implementing our own custom error metric\n",
    "\n",
    "def MASE(y_true, y_pred):\n",
    "    \"\"\"Implement MASE\n",
    "        (Assuming no seasonality of data)\n",
    "    \"\"\"\n",
    "    mae = tf.reduce_mean(tf.abs([i[0] - i[1] for i in zip(y_true, y_pred)]))\n",
    "    \n",
    "    # Find MAE of naive forecast\n",
    "    mae_naive_no_season = tf.reduce_mean(tf.abs([i[0] - i[1] for i in zip(y_true[1:], y_true[:-1])]))\n",
    "    \n",
    "    return mae/mae_naive_no_season"
   ]
  },
  {
   "cell_type": "code",
   "execution_count": 12,
   "id": "5631a1c7",
   "metadata": {},
   "outputs": [
    {
     "data": {
      "text/plain": [
       "0.9983862"
      ]
     },
     "execution_count": 12,
     "metadata": {},
     "output_type": "execute_result"
    }
   ],
   "source": [
    "MASE(y_test[1:],naive_forecast).numpy()"
   ]
  },
  {
   "cell_type": "code",
   "execution_count": 13,
   "id": "adb42f21",
   "metadata": {},
   "outputs": [],
   "source": [
    "def evaluate_preds(y_true, y_pred):\n",
    "    y_true = tf.cast(y_true, dtype=tf.float32)\n",
    "    y_pred = tf.cast(y_pred, dtype=tf.float32)\n",
    "    \n",
    "    mae = tf.keras.metrics.mean_absolute_error(y_true, y_pred)\n",
    "    mse = tf.keras.metrics.mean_squared_error(y_true, y_pred)\n",
    "    rmse = tf.sqrt(mse)\n",
    "    mape = tf.keras.metrics.mean_absolute_percentage_error(y_true, y_pred)\n",
    "    mase = MASE(y_true, y_pred)\n",
    "    \n",
    "    return {\"MAE\": mae.numpy(), \n",
    "            \"MSE\": mse.numpy(),\n",
    "            \"RMSE\": rmse.numpy(),\n",
    "            \"MAPE\": mape.numpy(),\n",
    "            \"MASE\": mase.numpy()           \n",
    "           }\n",
    "    "
   ]
  },
  {
   "cell_type": "code",
   "execution_count": 14,
   "id": "463540b5",
   "metadata": {},
   "outputs": [
    {
     "data": {
      "text/plain": [
       "{'MAE': 1112.5433,\n",
       " 'MSE': 2676603.0,\n",
       " 'RMSE': 1636.0327,\n",
       " 'MAPE': 2.8250604,\n",
       " 'MASE': 0.9983863}"
      ]
     },
     "execution_count": 14,
     "metadata": {},
     "output_type": "execute_result"
    }
   ],
   "source": [
    "evaluate_preds(y_test[1:], naive_forecast)"
   ]
  },
  {
   "cell_type": "markdown",
   "id": "69c595e5",
   "metadata": {},
   "source": [
    "### Windowing our time series\n",
    "\n",
    "We window our time series to turn it into a supervised learning problem<br>\n",
    "<br>\n",
    "<b>Window Size:</b> No. of timesteps we are going to use to predict the horizon<br>\n",
    "<b>Horizon:</b> No. of timesteps in the future we are going to predict"
   ]
  },
  {
   "cell_type": "code",
   "execution_count": 15,
   "id": "f47e1472",
   "metadata": {},
   "outputs": [],
   "source": [
    "HORIZON = 1\n",
    "WINDOW_SIZE = 7"
   ]
  },
  {
   "cell_type": "code",
   "execution_count": 16,
   "id": "9802b95b",
   "metadata": {
    "scrolled": true
   },
   "outputs": [],
   "source": [
    "train = tf.keras.utils.timeseries_dataset_from_array(prices[:int(0.8*len(prices))], \n",
    "                                             prices[:int(0.8*len(prices))][WINDOW_SIZE::WINDOW_SIZE],\n",
    "                                             sequence_length = WINDOW_SIZE,\n",
    "                                            )\n",
    "# for batch in train:\n",
    "#     print(batch)\n",
    "#     inputs, targets = batch\n",
    "#     print(\"Inputs\", inputs[0].numpy())\n",
    "#     print(\"Targets\", targets[0].numpy())"
   ]
  },
  {
   "cell_type": "markdown",
   "id": "1b2ad945",
   "metadata": {},
   "source": [
    "### Train - Test split"
   ]
  },
  {
   "cell_type": "code",
   "execution_count": 17,
   "id": "d869617e",
   "metadata": {},
   "outputs": [],
   "source": [
    "test = tf.keras.utils.timeseries_dataset_from_array(prices[int(0.8*len(prices)):], \n",
    "                                             prices[int(0.8*len(prices)):][WINDOW_SIZE::WINDOW_SIZE],\n",
    "                                             sequence_length = WINDOW_SIZE,\n",
    "                                            )"
   ]
  },
  {
   "cell_type": "code",
   "execution_count": 18,
   "id": "655b427d",
   "metadata": {},
   "outputs": [],
   "source": [
    "import numpy as np\n",
    "# Create function to label windowed data\n",
    "def get_labelled_windows(x, horizon=1):\n",
    "  \"\"\"\n",
    "  Creates labels for windowed dataset.\n",
    "\n",
    "  E.g. if horizon=1 (default)\n",
    "  Input: [1, 2, 3, 4, 5, 6] -> Output: ([1, 2, 3, 4, 5], [6])\n",
    "  \"\"\"\n",
    "  return x[:, :-horizon], x[:, -horizon:]"
   ]
  },
  {
   "cell_type": "code",
   "execution_count": 41,
   "id": "9770f7e2",
   "metadata": {},
   "outputs": [],
   "source": [
    " def make_windows(x, window_size=7, horizon=1):\n",
    "    \n",
    "    \"\"\"\n",
    "    Turns a 1D array into a 2D array of sequential windows of window_size.\n",
    "    \"\"\"\n",
    "    x = np.array(x)\n",
    "    print('here',x)\n",
    "    # 1. Create a window of specific window_size (add the horizon on the end for later labelling)\n",
    "    window_step = np.expand_dims(np.arange(window_size+horizon), axis=0)\n",
    "    # print(f\"Window step:\\n {window_step}\")\n",
    "\n",
    "    # 2. Create a 2D array of multiple window steps (minus 1 to account for 0 indexing)\n",
    "    window_indexes = window_step + np.expand_dims(np.arange(len(x)-(window_size+horizon-1)), axis=0).T # create 2D array of windows of size window_size\n",
    "    # print(f\"Window indexes:\\n {window_indexes[:3], window_indexes[-3:], window_indexes.shape}\")\n",
    "\n",
    "    # 3. Index on the target array (time series) with 2D array of multiple window steps\n",
    "    windowed_array = x[window_indexes]\n",
    "\n",
    "    # 4. Get the labelled windows\n",
    "    windows, labels = get_labelled_windows(windowed_array, horizon=horizon)\n",
    "\n",
    "    return windows, labels"
   ]
  },
  {
   "cell_type": "code",
   "execution_count": 42,
   "id": "93e857d3",
   "metadata": {},
   "outputs": [
    {
     "name": "stdout",
     "output_type": "stream",
     "text": [
      "here [  324.467934   328.644408   337.921358 ... 43107.257821 41534.350712\n",
      " 41687.227593]\n"
     ]
    }
   ],
   "source": [
    "full_windows, full_labels = make_windows(prices, window_size=WINDOW_SIZE, horizon=HORIZON)"
   ]
  },
  {
   "cell_type": "code",
   "execution_count": 21,
   "id": "a0c671c5",
   "metadata": {},
   "outputs": [
    {
     "data": {
      "text/plain": [
       "array([[324.467934, 328.644408, 337.921358, 348.99286 , 341.459753,\n",
       "        344.745289, 357.239982],\n",
       "       [328.644408, 337.921358, 348.99286 , 341.459753, 344.745289,\n",
       "        357.239982, 371.116917]])"
      ]
     },
     "execution_count": 21,
     "metadata": {},
     "output_type": "execute_result"
    }
   ],
   "source": [
    "full_windows[:2]"
   ]
  },
  {
   "cell_type": "code",
   "execution_count": 22,
   "id": "91636fe6",
   "metadata": {},
   "outputs": [
    {
     "data": {
      "text/plain": [
       "array([[371.116917],\n",
       "       [366.664633]])"
      ]
     },
     "execution_count": 22,
     "metadata": {},
     "output_type": "execute_result"
    }
   ],
   "source": [
    "full_labels[:2]"
   ]
  },
  {
   "cell_type": "markdown",
   "id": "4983611e",
   "metadata": {},
   "source": [
    "#### We do not do a randomized split because data from the psuedo future leaks into the training set, which we want to avoid"
   ]
  },
  {
   "cell_type": "code",
   "execution_count": 23,
   "id": "3c7108f9",
   "metadata": {},
   "outputs": [],
   "source": [
    "# Split into training and test\n",
    "\n",
    "x_train = full_windows[:int(0.8*len(full_windows))]\n",
    "y_train = full_labels[:int(0.8*len(full_labels))]\n",
    "\n",
    "x_test = full_windows[int(0.8*len(full_windows)):]\n",
    "y_test = full_labels[int(0.8*len(full_labels)):]"
   ]
  },
  {
   "cell_type": "code",
   "execution_count": 44,
   "id": "190916e9",
   "metadata": {},
   "outputs": [
    {
     "name": "stdout",
     "output_type": "stream",
     "text": [
      "<class 'numpy.ndarray'>\n"
     ]
    }
   ],
   "source": [
    "print(type(x_train))"
   ]
  },
  {
   "cell_type": "code",
   "execution_count": 24,
   "id": "9386690a",
   "metadata": {},
   "outputs": [
    {
     "data": {
      "text/plain": [
       "(2093, 524)"
      ]
     },
     "execution_count": 24,
     "metadata": {},
     "output_type": "execute_result"
    }
   ],
   "source": [
    "len(x_train), len(x_test)"
   ]
  },
  {
   "cell_type": "markdown",
   "id": "a31b0943",
   "metadata": {},
   "source": [
    "### Modelling with DNN"
   ]
  },
  {
   "cell_type": "code",
   "execution_count": 25,
   "id": "cb1e6655",
   "metadata": {},
   "outputs": [],
   "source": [
    "# Create model checkpoint to save best model\n",
    "\n",
    "import os\n",
    "\n",
    "def create_model_checkpoint(model_name, save_path=\"model_experiments\"):\n",
    "    return tf.keras.callbacks.ModelCheckpoint(filepath = os.path.join(save_path, model_name),\n",
    "                                              verbose = 0,\n",
    "                                              save_best_only=True\n",
    "                                             )\n"
   ]
  },
  {
   "cell_type": "code",
   "execution_count": 26,
   "id": "c60f3283",
   "metadata": {
    "scrolled": true
   },
   "outputs": [
    {
     "name": "stdout",
     "output_type": "stream",
     "text": [
      "Epoch 1/150\n",
      " 1/17 [>.............................] - ETA: 3s - loss: 2523.2217 - mean_absolute_error: 2523.2217 - mean_squared_error: 12723410.0000INFO:tensorflow:Assets written to: model_experiments\\model_1\\assets\n",
      "17/17 [==============================] - 1s 23ms/step - loss: 1064.2247 - mean_absolute_error: 1064.2247 - mean_squared_error: 3359825.7500 - val_loss: 4949.4785 - val_mean_absolute_error: 4949.4785 - val_mean_squared_error: 37677540.0000\n",
      "Epoch 2/150\n",
      " 1/17 [>.............................] - ETA: 0s - loss: 655.3428 - mean_absolute_error: 655.3428 - mean_squared_error: 970179.7500INFO:tensorflow:Assets written to: model_experiments\\model_1\\assets\n",
      "17/17 [==============================] - 0s 13ms/step - loss: 354.4933 - mean_absolute_error: 354.4933 - mean_squared_error: 398351.3750 - val_loss: 1909.7972 - val_mean_absolute_error: 1909.7972 - val_mean_squared_error: 6910831.5000\n",
      "Epoch 3/150\n",
      " 1/17 [>.............................] - ETA: 0s - loss: 297.7547 - mean_absolute_error: 297.7547 - mean_squared_error: 271756.9062INFO:tensorflow:Assets written to: model_experiments\\model_1\\assets\n",
      "17/17 [==============================] - 0s 13ms/step - loss: 242.4937 - mean_absolute_error: 242.4937 - mean_squared_error: 228496.7656 - val_loss: 1855.7340 - val_mean_absolute_error: 1855.7340 - val_mean_squared_error: 6553721.0000\n",
      "Epoch 4/150\n",
      " 1/17 [>.............................] - ETA: 0s - loss: 301.5766 - mean_absolute_error: 301.5766 - mean_squared_error: 333912.4688INFO:tensorflow:Assets written to: model_experiments\\model_1\\assets\n",
      "17/17 [==============================] - 0s 13ms/step - loss: 221.2971 - mean_absolute_error: 221.2971 - mean_squared_error: 203929.1562 - val_loss: 1776.2510 - val_mean_absolute_error: 1776.2510 - val_mean_squared_error: 6196365.5000\n",
      "Epoch 5/150\n",
      " 1/17 [>.............................] - ETA: 0s - loss: 264.5155 - mean_absolute_error: 264.5155 - mean_squared_error: 235048.5000INFO:tensorflow:Assets written to: model_experiments\\model_1\\assets\n",
      "17/17 [==============================] - 0s 18ms/step - loss: 214.3632 - mean_absolute_error: 214.3632 - mean_squared_error: 189941.9062 - val_loss: 1740.8477 - val_mean_absolute_error: 1740.8477 - val_mean_squared_error: 5858198.0000\n",
      "Epoch 6/150\n",
      " 1/17 [>.............................] - ETA: 0s - loss: 186.0358 - mean_absolute_error: 186.0358 - mean_squared_error: 140625.2344INFO:tensorflow:Assets written to: model_experiments\\model_1\\assets\n",
      "17/17 [==============================] - 0s 13ms/step - loss: 207.9313 - mean_absolute_error: 207.9313 - mean_squared_error: 178047.0469 - val_loss: 1701.7410 - val_mean_absolute_error: 1701.7410 - val_mean_squared_error: 5567577.0000\n",
      "Epoch 7/150\n",
      " 1/17 [>.............................] - ETA: 0s - loss: 204.0037 - mean_absolute_error: 204.0037 - mean_squared_error: 165130.4375INFO:tensorflow:Assets written to: model_experiments\\model_1\\assets\n",
      "17/17 [==============================] - 0s 13ms/step - loss: 202.7650 - mean_absolute_error: 202.7650 - mean_squared_error: 171767.8281 - val_loss: 1653.9924 - val_mean_absolute_error: 1653.9924 - val_mean_squared_error: 5386006.5000\n",
      "Epoch 8/150\n",
      " 1/17 [>.............................] - ETA: 0s - loss: 156.8622 - mean_absolute_error: 156.8622 - mean_squared_error: 109103.9062INFO:tensorflow:Assets written to: model_experiments\\model_1\\assets\n",
      "17/17 [==============================] - 0s 13ms/step - loss: 196.3256 - mean_absolute_error: 196.3256 - mean_squared_error: 159715.1406 - val_loss: 1604.7804 - val_mean_absolute_error: 1604.7804 - val_mean_squared_error: 4994832.5000\n",
      "Epoch 9/150\n",
      " 1/17 [>.............................] - ETA: 0s - loss: 195.8238 - mean_absolute_error: 195.8238 - mean_squared_error: 204933.1562INFO:tensorflow:Assets written to: model_experiments\\model_1\\assets\n",
      "17/17 [==============================] - 0s 13ms/step - loss: 190.3231 - mean_absolute_error: 190.3231 - mean_squared_error: 152312.6406 - val_loss: 1570.6798 - val_mean_absolute_error: 1570.6798 - val_mean_squared_error: 4697866.5000\n",
      "Epoch 10/150\n",
      " 1/17 [>.............................] - ETA: 0s - loss: 171.6208 - mean_absolute_error: 171.6208 - mean_squared_error: 110135.6172INFO:tensorflow:Assets written to: model_experiments\\model_1\\assets\n",
      "17/17 [==============================] - 0s 13ms/step - loss: 183.9634 - mean_absolute_error: 183.9634 - mean_squared_error: 143188.4531 - val_loss: 1523.8693 - val_mean_absolute_error: 1523.8693 - val_mean_squared_error: 4539774.0000\n",
      "Epoch 11/150\n",
      " 1/17 [>.............................] - ETA: 0s - loss: 203.5364 - mean_absolute_error: 203.5364 - mean_squared_error: 154073.6094INFO:tensorflow:Assets written to: model_experiments\\model_1\\assets\n",
      "17/17 [==============================] - 0s 13ms/step - loss: 178.5886 - mean_absolute_error: 178.5886 - mean_squared_error: 134725.3906 - val_loss: 1475.0465 - val_mean_absolute_error: 1475.0465 - val_mean_squared_error: 4150647.2500\n",
      "Epoch 12/150\n",
      "17/17 [==============================] - 0s 1ms/step - loss: 173.7410 - mean_absolute_error: 173.7410 - mean_squared_error: 128897.1328 - val_loss: 1510.5062 - val_mean_absolute_error: 1510.5062 - val_mean_squared_error: 4207771.0000\n",
      "Epoch 13/150\n",
      " 1/17 [>.............................] - ETA: 0s - loss: 149.0180 - mean_absolute_error: 149.0180 - mean_squared_error: 95307.2188INFO:tensorflow:Assets written to: model_experiments\\model_1\\assets\n",
      "17/17 [==============================] - 0s 13ms/step - loss: 173.3689 - mean_absolute_error: 173.3689 - mean_squared_error: 124890.5703 - val_loss: 1386.3840 - val_mean_absolute_error: 1386.3840 - val_mean_squared_error: 3722497.0000\n",
      "Epoch 14/150\n",
      " 1/17 [>.............................] - ETA: 0s - loss: 159.9764 - mean_absolute_error: 159.9764 - mean_squared_error: 110136.1875INFO:tensorflow:Assets written to: model_experiments\\model_1\\assets\n",
      "17/17 [==============================] - 0s 13ms/step - loss: 161.3569 - mean_absolute_error: 161.3569 - mean_squared_error: 114539.5547 - val_loss: 1380.9467 - val_mean_absolute_error: 1380.9467 - val_mean_squared_error: 3913405.2500\n",
      "Epoch 15/150\n",
      " 1/17 [>.............................] - ETA: 0s - loss: 148.4136 - mean_absolute_error: 148.4136 - mean_squared_error: 91056.8047INFO:tensorflow:Assets written to: model_experiments\\model_1\\assets\n",
      "17/17 [==============================] - 0s 13ms/step - loss: 162.8235 - mean_absolute_error: 162.8235 - mean_squared_error: 115046.8984 - val_loss: 1349.2046 - val_mean_absolute_error: 1349.2046 - val_mean_squared_error: 3512402.0000\n",
      "Epoch 16/150\n",
      "17/17 [==============================] - 0s 1ms/step - loss: 164.6028 - mean_absolute_error: 164.6028 - mean_squared_error: 112668.8203 - val_loss: 1350.7623 - val_mean_absolute_error: 1350.7623 - val_mean_squared_error: 3758043.2500\n",
      "Epoch 17/150\n",
      " 1/17 [>.............................] - ETA: 0s - loss: 210.0598 - mean_absolute_error: 210.0598 - mean_squared_error: 149914.1406INFO:tensorflow:Assets written to: model_experiments\\model_1\\assets\n",
      "17/17 [==============================] - 0s 13ms/step - loss: 157.5712 - mean_absolute_error: 157.5712 - mean_squared_error: 108524.6172 - val_loss: 1295.7628 - val_mean_absolute_error: 1295.7628 - val_mean_squared_error: 3348048.7500\n",
      "Epoch 18/150\n",
      " 1/17 [>.............................] - ETA: 0s - loss: 150.9581 - mean_absolute_error: 150.9581 - mean_squared_error: 97930.9375INFO:tensorflow:Assets written to: model_experiments\\model_1\\assets\n",
      "17/17 [==============================] - 0s 13ms/step - loss: 153.8623 - mean_absolute_error: 153.8623 - mean_squared_error: 106164.7578 - val_loss: 1275.1914 - val_mean_absolute_error: 1275.1914 - val_mean_squared_error: 3292385.7500\n",
      "Epoch 19/150\n",
      "17/17 [==============================] - 0s 1ms/step - loss: 151.9222 - mean_absolute_error: 151.9222 - mean_squared_error: 102713.4062 - val_loss: 1316.4274 - val_mean_absolute_error: 1316.4274 - val_mean_squared_error: 3346359.2500\n",
      "Epoch 20/150\n",
      "17/17 [==============================] - 0s 1ms/step - loss: 156.1852 - mean_absolute_error: 156.1852 - mean_squared_error: 106054.4531 - val_loss: 1301.9771 - val_mean_absolute_error: 1301.9771 - val_mean_squared_error: 3293761.2500\n",
      "Epoch 21/150\n",
      " 1/17 [>.............................] - ETA: 0s - loss: 163.8589 - mean_absolute_error: 163.8589 - mean_squared_error: 189997.9375INFO:tensorflow:Assets written to: model_experiments\\model_1\\assets\n",
      "17/17 [==============================] - 0s 13ms/step - loss: 148.1769 - mean_absolute_error: 148.1769 - mean_squared_error: 100061.6641 - val_loss: 1244.9728 - val_mean_absolute_error: 1244.9728 - val_mean_squared_error: 3207869.0000\n",
      "Epoch 22/150\n",
      "17/17 [==============================] - 0s 1ms/step - loss: 147.6823 - mean_absolute_error: 147.6823 - mean_squared_error: 98461.6016 - val_loss: 1291.4218 - val_mean_absolute_error: 1291.4218 - val_mean_squared_error: 3245545.2500\n",
      "Epoch 23/150\n",
      "17/17 [==============================] - 0s 1ms/step - loss: 147.0773 - mean_absolute_error: 147.0773 - mean_squared_error: 97629.5234 - val_loss: 1271.8488 - val_mean_absolute_error: 1271.8488 - val_mean_squared_error: 3182116.0000\n",
      "Epoch 24/150\n",
      " 1/17 [>.............................] - ETA: 0s - loss: 145.5032 - mean_absolute_error: 145.5032 - mean_squared_error: 63329.7461INFO:tensorflow:Assets written to: model_experiments\\model_1\\assets\n",
      "17/17 [==============================] - 0s 13ms/step - loss: 145.7901 - mean_absolute_error: 145.7901 - mean_squared_error: 96277.5547 - val_loss: 1220.7861 - val_mean_absolute_error: 1220.7861 - val_mean_squared_error: 3060519.2500\n",
      "Epoch 25/150\n",
      " 1/17 [>.............................] - ETA: 0s - loss: 149.7516 - mean_absolute_error: 149.7516 - mean_squared_error: 80282.6875INFO:tensorflow:Assets written to: model_experiments\\model_1\\assets\n",
      "17/17 [==============================] - 0s 13ms/step - loss: 147.7587 - mean_absolute_error: 147.7587 - mean_squared_error: 97321.6328 - val_loss: 1212.8560 - val_mean_absolute_error: 1212.8560 - val_mean_squared_error: 3058317.7500\n",
      "Epoch 26/150\n",
      "17/17 [==============================] - 0s 1ms/step - loss: 146.4188 - mean_absolute_error: 146.4188 - mean_squared_error: 95118.6484 - val_loss: 1213.4548 - val_mean_absolute_error: 1213.4548 - val_mean_squared_error: 3024696.2500\n",
      "Epoch 27/150\n",
      "17/17 [==============================] - 0s 1ms/step - loss: 148.4643 - mean_absolute_error: 148.4643 - mean_squared_error: 97174.9844 - val_loss: 1399.7603 - val_mean_absolute_error: 1399.7603 - val_mean_squared_error: 3642405.7500\n",
      "Epoch 28/150\n",
      "17/17 [==============================] - 0s 1ms/step - loss: 171.4969 - mean_absolute_error: 171.4969 - mean_squared_error: 114130.4922 - val_loss: 1434.5919 - val_mean_absolute_error: 1434.5919 - val_mean_squared_error: 3786652.5000\n",
      "Epoch 29/150\n",
      " 1/17 [>.............................] - ETA: 0s - loss: 203.6961 - mean_absolute_error: 203.6961 - mean_squared_error: 128668.9531INFO:tensorflow:Assets written to: model_experiments\\model_1\\assets\n",
      "17/17 [==============================] - 0s 19ms/step - loss: 166.5761 - mean_absolute_error: 166.5761 - mean_squared_error: 105671.2109 - val_loss: 1202.4484 - val_mean_absolute_error: 1202.4484 - val_mean_squared_error: 2988295.0000\n",
      "Epoch 30/150\n",
      "17/17 [==============================] - 0s 1ms/step - loss: 149.6107 - mean_absolute_error: 149.6107 - mean_squared_error: 96698.9141 - val_loss: 1210.1893 - val_mean_absolute_error: 1210.1893 - val_mean_squared_error: 3080148.0000\n",
      "Epoch 31/150\n",
      "17/17 [==============================] - 0s 1ms/step - loss: 149.7952 - mean_absolute_error: 149.7952 - mean_squared_error: 96995.6562 - val_loss: 1236.5332 - val_mean_absolute_error: 1236.5332 - val_mean_squared_error: 3196939.5000\n",
      "Epoch 32/150\n",
      " 1/17 [>.............................] - ETA: 0s - loss: 157.3311 - mean_absolute_error: 157.3311 - mean_squared_error: 122607.1094INFO:tensorflow:Assets written to: model_experiments\\model_1\\assets\n",
      "17/17 [==============================] - 0s 13ms/step - loss: 147.8969 - mean_absolute_error: 147.8969 - mean_squared_error: 95924.0859 - val_loss: 1190.2532 - val_mean_absolute_error: 1190.2532 - val_mean_squared_error: 2958614.0000\n",
      "Epoch 33/150\n",
      "17/17 [==============================] - 0s 1ms/step - loss: 144.7970 - mean_absolute_error: 144.7970 - mean_squared_error: 92014.5469 - val_loss: 1265.0049 - val_mean_absolute_error: 1265.0049 - val_mean_squared_error: 3139227.0000\n",
      "Epoch 34/150\n",
      "17/17 [==============================] - 0s 1ms/step - loss: 144.0190 - mean_absolute_error: 144.0190 - mean_squared_error: 93126.1406 - val_loss: 1222.2902 - val_mean_absolute_error: 1222.2902 - val_mean_squared_error: 3013720.2500\n",
      "Epoch 35/150\n",
      " 1/17 [>.............................] - ETA: 0s - loss: 124.0637 - mean_absolute_error: 124.0637 - mean_squared_error: 79480.8672INFO:tensorflow:Assets written to: model_experiments\\model_1\\assets\n",
      "17/17 [==============================] - 0s 13ms/step - loss: 143.3673 - mean_absolute_error: 143.3673 - mean_squared_error: 95034.0234 - val_loss: 1181.2496 - val_mean_absolute_error: 1181.2496 - val_mean_squared_error: 2934097.5000\n",
      "Epoch 36/150\n",
      "17/17 [==============================] - 0s 1ms/step - loss: 144.5688 - mean_absolute_error: 144.5688 - mean_squared_error: 92444.8672 - val_loss: 1413.5236 - val_mean_absolute_error: 1413.5236 - val_mean_squared_error: 3701110.5000\n",
      "Epoch 37/150\n",
      "17/17 [==============================] - 0s 1ms/step - loss: 153.4061 - mean_absolute_error: 153.4061 - mean_squared_error: 96908.4453 - val_loss: 1215.8365 - val_mean_absolute_error: 1215.8365 - val_mean_squared_error: 2991796.7500\n",
      "Epoch 38/150\n",
      "17/17 [==============================] - 0s 1ms/step - loss: 141.6915 - mean_absolute_error: 141.6915 - mean_squared_error: 91660.0547 - val_loss: 1183.2152 - val_mean_absolute_error: 1183.2152 - val_mean_squared_error: 2967231.2500\n",
      "Epoch 39/150\n",
      " 1/17 [>.............................] - ETA: 0s - loss: 146.1342 - mean_absolute_error: 146.1342 - mean_squared_error: 82856.4375INFO:tensorflow:Assets written to: model_experiments\\model_1\\assets\n",
      "17/17 [==============================] - 0s 13ms/step - loss: 139.2830 - mean_absolute_error: 139.2830 - mean_squared_error: 89658.6016 - val_loss: 1179.4617 - val_mean_absolute_error: 1179.4617 - val_mean_squared_error: 2951289.7500\n",
      "Epoch 40/150\n",
      " 1/17 [>.............................] - ETA: 0s - loss: 122.4364 - mean_absolute_error: 122.4364 - mean_squared_error: 57520.3477INFO:tensorflow:Assets written to: model_experiments\\model_1\\assets\n",
      "17/17 [==============================] - 0s 13ms/step - loss: 144.3248 - mean_absolute_error: 144.3248 - mean_squared_error: 93963.7891 - val_loss: 1178.6492 - val_mean_absolute_error: 1178.6492 - val_mean_squared_error: 2897598.7500\n",
      "Epoch 41/150\n",
      " 1/17 [>.............................] - ETA: 0s - loss: 136.7899 - mean_absolute_error: 136.7899 - mean_squared_error: 81112.5000INFO:tensorflow:Assets written to: model_experiments\\model_1\\assets\n",
      "17/17 [==============================] - 0s 13ms/step - loss: 139.3138 - mean_absolute_error: 139.3138 - mean_squared_error: 89407.8516 - val_loss: 1169.5171 - val_mean_absolute_error: 1169.5171 - val_mean_squared_error: 2886604.2500\n",
      "Epoch 42/150\n",
      " 1/17 [>.............................] - ETA: 0s - loss: 116.7648 - mean_absolute_error: 116.7648 - mean_squared_error: 59515.6016INFO:tensorflow:Assets written to: model_experiments\\model_1\\assets\n",
      "17/17 [==============================] - 0s 13ms/step - loss: 140.4335 - mean_absolute_error: 140.4335 - mean_squared_error: 89975.6250 - val_loss: 1165.8607 - val_mean_absolute_error: 1165.8607 - val_mean_squared_error: 2888998.2500\n",
      "Epoch 43/150\n",
      " 1/17 [>.............................] - ETA: 0s - loss: 144.1805 - mean_absolute_error: 144.1805 - mean_squared_error: 86505.2031INFO:tensorflow:Assets written to: model_experiments\\model_1\\assets\n",
      "17/17 [==============================] - 0s 13ms/step - loss: 138.7459 - mean_absolute_error: 138.7459 - mean_squared_error: 88462.5312 - val_loss: 1163.6497 - val_mean_absolute_error: 1163.6497 - val_mean_squared_error: 2879999.5000\n",
      "Epoch 44/150\n",
      "17/17 [==============================] - 0s 1ms/step - loss: 139.1290 - mean_absolute_error: 139.1290 - mean_squared_error: 89009.2422 - val_loss: 1222.2211 - val_mean_absolute_error: 1222.2211 - val_mean_squared_error: 3123442.5000\n",
      "Epoch 45/150\n"
     ]
    },
    {
     "name": "stdout",
     "output_type": "stream",
     "text": [
      "17/17 [==============================] - 0s 1ms/step - loss: 153.1043 - mean_absolute_error: 153.1043 - mean_squared_error: 93602.0469 - val_loss: 1570.8682 - val_mean_absolute_error: 1570.8682 - val_mean_squared_error: 4740271.5000\n",
      "Epoch 46/150\n",
      "17/17 [==============================] - 0s 1ms/step - loss: 163.4184 - mean_absolute_error: 163.4184 - mean_squared_error: 105843.7812 - val_loss: 1441.1466 - val_mean_absolute_error: 1441.1466 - val_mean_squared_error: 4092890.2500\n",
      "Epoch 47/150\n",
      "17/17 [==============================] - 0s 1ms/step - loss: 144.0164 - mean_absolute_error: 144.0164 - mean_squared_error: 91150.0078 - val_loss: 1195.3446 - val_mean_absolute_error: 1195.3446 - val_mean_squared_error: 3018148.0000\n",
      "Epoch 48/150\n",
      " 1/17 [>.............................] - ETA: 0s - loss: 135.4087 - mean_absolute_error: 135.4087 - mean_squared_error: 62729.4453INFO:tensorflow:Assets written to: model_experiments\\model_1\\assets\n",
      "17/17 [==============================] - 0s 13ms/step - loss: 137.4335 - mean_absolute_error: 137.4335 - mean_squared_error: 87742.4531 - val_loss: 1155.8311 - val_mean_absolute_error: 1155.8311 - val_mean_squared_error: 2852048.7500\n",
      "Epoch 49/150\n",
      "17/17 [==============================] - 0s 1ms/step - loss: 137.6094 - mean_absolute_error: 137.6094 - mean_squared_error: 87528.5703 - val_loss: 1194.4783 - val_mean_absolute_error: 1194.4783 - val_mean_squared_error: 3013524.5000\n",
      "Epoch 50/150\n",
      "17/17 [==============================] - 0s 1ms/step - loss: 145.0564 - mean_absolute_error: 145.0564 - mean_squared_error: 92972.1797 - val_loss: 1200.1387 - val_mean_absolute_error: 1200.1387 - val_mean_squared_error: 3033631.5000\n",
      "Epoch 51/150\n",
      "17/17 [==============================] - 0s 1ms/step - loss: 141.4719 - mean_absolute_error: 141.4719 - mean_squared_error: 89620.1406 - val_loss: 1163.3872 - val_mean_absolute_error: 1163.3872 - val_mean_squared_error: 2843066.7500\n",
      "Epoch 52/150\n",
      " 1/17 [>.............................] - ETA: 0s - loss: 151.1427 - mean_absolute_error: 151.1427 - mean_squared_error: 80279.9844INFO:tensorflow:Assets written to: model_experiments\\model_1\\assets\n",
      "17/17 [==============================] - 0s 13ms/step - loss: 139.0621 - mean_absolute_error: 139.0621 - mean_squared_error: 89692.3438 - val_loss: 1152.4453 - val_mean_absolute_error: 1152.4453 - val_mean_squared_error: 2829129.0000\n",
      "Epoch 53/150\n",
      "17/17 [==============================] - 0s 1ms/step - loss: 136.5549 - mean_absolute_error: 136.5549 - mean_squared_error: 86913.8047 - val_loss: 1159.5818 - val_mean_absolute_error: 1159.5818 - val_mean_squared_error: 2882455.7500\n",
      "Epoch 54/150\n",
      " 1/17 [>.............................] - ETA: 0s - loss: 128.4988 - mean_absolute_error: 128.4988 - mean_squared_error: 72363.0078INFO:tensorflow:Assets written to: model_experiments\\model_1\\assets\n",
      "17/17 [==============================] - 0s 13ms/step - loss: 137.7315 - mean_absolute_error: 137.7315 - mean_squared_error: 87875.6094 - val_loss: 1146.3766 - val_mean_absolute_error: 1146.3766 - val_mean_squared_error: 2823139.0000\n",
      "Epoch 55/150\n",
      "17/17 [==============================] - 0s 1ms/step - loss: 136.4131 - mean_absolute_error: 136.4131 - mean_squared_error: 86673.3594 - val_loss: 1146.7146 - val_mean_absolute_error: 1146.7146 - val_mean_squared_error: 2832132.2500\n",
      "Epoch 56/150\n",
      " 1/17 [>.............................] - ETA: 0s - loss: 155.9555 - mean_absolute_error: 155.9555 - mean_squared_error: 106236.5781INFO:tensorflow:Assets written to: model_experiments\\model_1\\assets\n",
      "17/17 [==============================] - 0s 13ms/step - loss: 135.9101 - mean_absolute_error: 135.9101 - mean_squared_error: 86061.2500 - val_loss: 1143.1068 - val_mean_absolute_error: 1143.1068 - val_mean_squared_error: 2809515.2500\n",
      "Epoch 57/150\n",
      " 1/17 [>.............................] - ETA: 0s - loss: 123.0169 - mean_absolute_error: 123.0169 - mean_squared_error: 68874.0312INFO:tensorflow:Assets written to: model_experiments\\model_1\\assets\n",
      "17/17 [==============================] - 0s 13ms/step - loss: 136.1192 - mean_absolute_error: 136.1192 - mean_squared_error: 85920.1406 - val_loss: 1141.3295 - val_mean_absolute_error: 1141.3295 - val_mean_squared_error: 2805722.7500\n",
      "Epoch 58/150\n",
      "17/17 [==============================] - 0s 1ms/step - loss: 137.1036 - mean_absolute_error: 137.1036 - mean_squared_error: 87083.3594 - val_loss: 1194.0165 - val_mean_absolute_error: 1194.0165 - val_mean_squared_error: 2903901.7500\n",
      "Epoch 59/150\n",
      "17/17 [==============================] - 0s 1ms/step - loss: 139.9168 - mean_absolute_error: 139.9168 - mean_squared_error: 86840.4062 - val_loss: 1281.6105 - val_mean_absolute_error: 1281.6105 - val_mean_squared_error: 3188223.2500\n",
      "Epoch 60/150\n",
      " 1/17 [>.............................] - ETA: 0s - loss: 154.5113 - mean_absolute_error: 154.5113 - mean_squared_error: 77971.5469INFO:tensorflow:Assets written to: model_experiments\\model_1\\assets\n",
      "17/17 [==============================] - 0s 13ms/step - loss: 140.9061 - mean_absolute_error: 140.9061 - mean_squared_error: 88456.2891 - val_loss: 1140.8689 - val_mean_absolute_error: 1140.8689 - val_mean_squared_error: 2813157.2500\n",
      "Epoch 61/150\n",
      " 1/17 [>.............................] - ETA: 0s - loss: 116.6318 - mean_absolute_error: 116.6318 - mean_squared_error: 81135.4531INFO:tensorflow:Assets written to: model_experiments\\model_1\\assets\n",
      "17/17 [==============================] - 0s 13ms/step - loss: 138.8965 - mean_absolute_error: 138.8965 - mean_squared_error: 87942.3906 - val_loss: 1137.9193 - val_mean_absolute_error: 1137.9193 - val_mean_squared_error: 2801654.2500\n",
      "Epoch 62/150\n",
      " 1/17 [>.............................] - ETA: 0s - loss: 154.2231 - mean_absolute_error: 154.2231 - mean_squared_error: 85419.0312INFO:tensorflow:Assets written to: model_experiments\\model_1\\assets\n",
      "17/17 [==============================] - 0s 19ms/step - loss: 134.7442 - mean_absolute_error: 134.7442 - mean_squared_error: 84593.4688 - val_loss: 1135.3776 - val_mean_absolute_error: 1135.3776 - val_mean_squared_error: 2789831.0000\n",
      "Epoch 63/150\n",
      "17/17 [==============================] - 0s 1ms/step - loss: 135.0685 - mean_absolute_error: 135.0685 - mean_squared_error: 84706.4297 - val_loss: 1158.5299 - val_mean_absolute_error: 1158.5299 - val_mean_squared_error: 2812193.0000\n",
      "Epoch 64/150\n",
      "17/17 [==============================] - 0s 1ms/step - loss: 134.8010 - mean_absolute_error: 134.8010 - mean_squared_error: 84812.1406 - val_loss: 1152.5814 - val_mean_absolute_error: 1152.5814 - val_mean_squared_error: 2854548.2500\n",
      "Epoch 65/150\n",
      "17/17 [==============================] - 0s 1ms/step - loss: 139.1864 - mean_absolute_error: 139.1864 - mean_squared_error: 85794.1016 - val_loss: 1233.1600 - val_mean_absolute_error: 1233.1600 - val_mean_squared_error: 3025327.2500\n",
      "Epoch 66/150\n",
      " 1/17 [>.............................] - ETA: 0s - loss: 126.0261 - mean_absolute_error: 126.0261 - mean_squared_error: 65196.7539INFO:tensorflow:Assets written to: model_experiments\\model_1\\assets\n",
      "17/17 [==============================] - 0s 13ms/step - loss: 135.3705 - mean_absolute_error: 135.3705 - mean_squared_error: 84130.0469 - val_loss: 1131.9849 - val_mean_absolute_error: 1131.9849 - val_mean_squared_error: 2777529.2500\n",
      "Epoch 67/150\n",
      "17/17 [==============================] - 0s 1ms/step - loss: 135.6266 - mean_absolute_error: 135.6266 - mean_squared_error: 85403.0312 - val_loss: 1208.4474 - val_mean_absolute_error: 1208.4474 - val_mean_squared_error: 3046661.7500\n",
      "Epoch 68/150\n",
      "17/17 [==============================] - 0s 1ms/step - loss: 137.0726 - mean_absolute_error: 137.0726 - mean_squared_error: 85866.0312 - val_loss: 1179.4336 - val_mean_absolute_error: 1179.4336 - val_mean_squared_error: 2858278.0000\n",
      "Epoch 69/150\n",
      "17/17 [==============================] - 0s 1ms/step - loss: 138.6179 - mean_absolute_error: 138.6179 - mean_squared_error: 87823.3750 - val_loss: 1233.8270 - val_mean_absolute_error: 1233.8270 - val_mean_squared_error: 3141305.2500\n",
      "Epoch 70/150\n",
      "17/17 [==============================] - 0s 1ms/step - loss: 137.8414 - mean_absolute_error: 137.8414 - mean_squared_error: 86150.8125 - val_loss: 1156.0583 - val_mean_absolute_error: 1156.0583 - val_mean_squared_error: 2798970.0000\n",
      "Epoch 71/150\n",
      " 1/17 [>.............................] - ETA: 0s - loss: 102.0821 - mean_absolute_error: 102.0821 - mean_squared_error: 52612.9922INFO:tensorflow:Assets written to: model_experiments\\model_1\\assets\n",
      "17/17 [==============================] - 0s 13ms/step - loss: 136.1980 - mean_absolute_error: 136.1980 - mean_squared_error: 85733.7734 - val_loss: 1127.8633 - val_mean_absolute_error: 1127.8633 - val_mean_squared_error: 2759167.0000\n",
      "Epoch 72/150\n",
      "17/17 [==============================] - 0s 1ms/step - loss: 135.6082 - mean_absolute_error: 135.6082 - mean_squared_error: 84565.8984 - val_loss: 1152.4124 - val_mean_absolute_error: 1152.4124 - val_mean_squared_error: 2790234.7500\n",
      "Epoch 73/150\n",
      "17/17 [==============================] - 0s 1ms/step - loss: 135.0002 - mean_absolute_error: 135.0002 - mean_squared_error: 84314.8594 - val_loss: 1259.8568 - val_mean_absolute_error: 1259.8568 - val_mean_squared_error: 3243823.5000\n",
      "Epoch 74/150\n",
      "17/17 [==============================] - 0s 1ms/step - loss: 136.9182 - mean_absolute_error: 136.9182 - mean_squared_error: 84769.6562 - val_loss: 1154.1687 - val_mean_absolute_error: 1154.1687 - val_mean_squared_error: 2792468.0000\n",
      "Epoch 75/150\n",
      " 1/17 [>.............................] - ETA: 0s - loss: 170.5473 - mean_absolute_error: 170.5473 - mean_squared_error: 109096.1797INFO:tensorflow:Assets written to: model_experiments\\model_1\\assets\n",
      "17/17 [==============================] - 0s 13ms/step - loss: 133.3485 - mean_absolute_error: 133.3485 - mean_squared_error: 83161.0938 - val_loss: 1127.0105 - val_mean_absolute_error: 1127.0105 - val_mean_squared_error: 2759030.7500\n",
      "Epoch 76/150\n",
      "17/17 [==============================] - 0s 1ms/step - loss: 133.6316 - mean_absolute_error: 133.6316 - mean_squared_error: 83659.3125 - val_loss: 1131.5560 - val_mean_absolute_error: 1131.5560 - val_mean_squared_error: 2752196.7500\n",
      "Epoch 77/150\n",
      "17/17 [==============================] - 0s 1ms/step - loss: 135.8127 - mean_absolute_error: 135.8127 - mean_squared_error: 84695.3438 - val_loss: 1232.6710 - val_mean_absolute_error: 1232.6710 - val_mean_squared_error: 3133764.7500\n",
      "Epoch 78/150\n",
      "17/17 [==============================] - 0s 1ms/step - loss: 143.6124 - mean_absolute_error: 143.6124 - mean_squared_error: 86248.1406 - val_loss: 1170.4733 - val_mean_absolute_error: 1170.4733 - val_mean_squared_error: 2907257.2500\n",
      "Epoch 79/150\n",
      "17/17 [==============================] - 0s 1ms/step - loss: 135.1378 - mean_absolute_error: 135.1378 - mean_squared_error: 83453.3828 - val_loss: 1134.2833 - val_mean_absolute_error: 1134.2833 - val_mean_squared_error: 2753672.2500\n",
      "Epoch 80/150\n",
      "17/17 [==============================] - 0s 1ms/step - loss: 132.6543 - mean_absolute_error: 132.6543 - mean_squared_error: 82518.7656 - val_loss: 1130.2612 - val_mean_absolute_error: 1130.2612 - val_mean_squared_error: 2770592.0000\n",
      "Epoch 81/150\n",
      " 1/17 [>.............................] - ETA: 0s - loss: 146.0350 - mean_absolute_error: 146.0350 - mean_squared_error: 106522.1406INFO:tensorflow:Assets written to: model_experiments\\model_1\\assets\n",
      "17/17 [==============================] - 0s 13ms/step - loss: 134.3726 - mean_absolute_error: 134.3726 - mean_squared_error: 84220.4453 - val_loss: 1124.6812 - val_mean_absolute_error: 1124.6812 - val_mean_squared_error: 2748767.5000\n",
      "Epoch 82/150\n",
      "17/17 [==============================] - 0s 1ms/step - loss: 139.8006 - mean_absolute_error: 139.8006 - mean_squared_error: 85263.2969 - val_loss: 1188.2902 - val_mean_absolute_error: 1188.2902 - val_mean_squared_error: 2965106.5000\n",
      "Epoch 83/150\n",
      "17/17 [==============================] - 0s 1ms/step - loss: 137.8920 - mean_absolute_error: 137.8920 - mean_squared_error: 87250.6641 - val_loss: 1178.1279 - val_mean_absolute_error: 1178.1279 - val_mean_squared_error: 2855647.0000\n",
      "Epoch 84/150\n",
      "17/17 [==============================] - 0s 1ms/step - loss: 137.8917 - mean_absolute_error: 137.8917 - mean_squared_error: 85686.8516 - val_loss: 1134.7699 - val_mean_absolute_error: 1134.7699 - val_mean_squared_error: 2785465.0000\n",
      "Epoch 85/150\n",
      "17/17 [==============================] - 0s 1ms/step - loss: 133.9339 - mean_absolute_error: 133.9339 - mean_squared_error: 82932.3594 - val_loss: 1211.6934 - val_mean_absolute_error: 1211.6934 - val_mean_squared_error: 2954546.7500\n",
      "Epoch 86/150\n",
      "17/17 [==============================] - 0s 1ms/step - loss: 135.6876 - mean_absolute_error: 135.6876 - mean_squared_error: 84989.3984 - val_loss: 1155.9799 - val_mean_absolute_error: 1155.9799 - val_mean_squared_error: 2794740.2500\n",
      "Epoch 87/150\n",
      "17/17 [==============================] - 0s 1ms/step - loss: 133.3957 - mean_absolute_error: 133.3957 - mean_squared_error: 83372.4062 - val_loss: 1131.4537 - val_mean_absolute_error: 1131.4537 - val_mean_squared_error: 2771599.0000\n",
      "Epoch 88/150\n",
      "17/17 [==============================] - 0s 1ms/step - loss: 136.5935 - mean_absolute_error: 136.5935 - mean_squared_error: 84862.7031 - val_loss: 1131.0355 - val_mean_absolute_error: 1131.0355 - val_mean_squared_error: 2742292.2500\n",
      "Epoch 89/150\n",
      "17/17 [==============================] - 0s 1ms/step - loss: 143.8144 - mean_absolute_error: 143.8144 - mean_squared_error: 90675.4141 - val_loss: 1240.9092 - val_mean_absolute_error: 1240.9092 - val_mean_squared_error: 3163712.7500\n",
      "Epoch 90/150\n",
      "17/17 [==============================] - 0s 1ms/step - loss: 136.6966 - mean_absolute_error: 136.6966 - mean_squared_error: 85367.3125 - val_loss: 1131.4707 - val_mean_absolute_error: 1131.4707 - val_mean_squared_error: 2770152.7500\n",
      "Epoch 91/150\n",
      "17/17 [==============================] - 0s 1ms/step - loss: 132.7159 - mean_absolute_error: 132.7159 - mean_squared_error: 82190.9297 - val_loss: 1190.2657 - val_mean_absolute_error: 1190.2657 - val_mean_squared_error: 2890405.5000\n",
      "Epoch 92/150\n",
      "17/17 [==============================] - 0s 1ms/step - loss: 133.2649 - mean_absolute_error: 133.2649 - mean_squared_error: 82787.3906 - val_loss: 1142.0002 - val_mean_absolute_error: 1142.0002 - val_mean_squared_error: 2762053.7500\n",
      "Epoch 93/150\n",
      "17/17 [==============================] - 0s 1ms/step - loss: 133.3818 - mean_absolute_error: 133.3818 - mean_squared_error: 81945.6484 - val_loss: 1166.7006 - val_mean_absolute_error: 1166.7006 - val_mean_squared_error: 2887368.0000\n",
      "Epoch 94/150\n",
      "17/17 [==============================] - 0s 1ms/step - loss: 135.4353 - mean_absolute_error: 135.4353 - mean_squared_error: 83945.7188 - val_loss: 1129.3801 - val_mean_absolute_error: 1129.3801 - val_mean_squared_error: 2736211.2500\n",
      "Epoch 95/150\n",
      "17/17 [==============================] - 0s 1ms/step - loss: 133.1542 - mean_absolute_error: 133.1542 - mean_squared_error: 83065.9375 - val_loss: 1137.1124 - val_mean_absolute_error: 1137.1124 - val_mean_squared_error: 2749965.2500\n",
      "Epoch 96/150\n",
      "17/17 [==============================] - 0s 1ms/step - loss: 134.6969 - mean_absolute_error: 134.6969 - mean_squared_error: 83302.9844 - val_loss: 1148.5897 - val_mean_absolute_error: 1148.5897 - val_mean_squared_error: 2825178.0000\n",
      "Epoch 97/150\n",
      "17/17 [==============================] - 0s 1ms/step - loss: 134.3562 - mean_absolute_error: 134.3562 - mean_squared_error: 83334.6875 - val_loss: 1167.8707 - val_mean_absolute_error: 1167.8707 - val_mean_squared_error: 2825973.7500\n",
      "Epoch 98/150\n",
      " 1/17 [>.............................] - ETA: 0s - loss: 127.5258 - mean_absolute_error: 127.5258 - mean_squared_error: 74234.1797INFO:tensorflow:Assets written to: model_experiments\\model_1\\assets\n",
      "17/17 [==============================] - 0s 13ms/step - loss: 134.0075 - mean_absolute_error: 134.0075 - mean_squared_error: 82890.7656 - val_loss: 1119.5607 - val_mean_absolute_error: 1119.5607 - val_mean_squared_error: 2719537.7500\n",
      "Epoch 99/150\n",
      " 1/17 [>.............................] - ETA: 0s - loss: 143.0323 - mean_absolute_error: 143.0323 - mean_squared_error: 80970.4609INFO:tensorflow:Assets written to: model_experiments\\model_1\\assets\n",
      "17/17 [==============================] - 0s 13ms/step - loss: 133.1920 - mean_absolute_error: 133.1920 - mean_squared_error: 82368.2109 - val_loss: 1119.2252 - val_mean_absolute_error: 1119.2252 - val_mean_squared_error: 2718550.5000\n",
      "Epoch 100/150\n"
     ]
    },
    {
     "name": "stdout",
     "output_type": "stream",
     "text": [
      "17/17 [==============================] - 0s 1ms/step - loss: 131.9544 - mean_absolute_error: 131.9544 - mean_squared_error: 82264.0859 - val_loss: 1128.2820 - val_mean_absolute_error: 1128.2820 - val_mean_squared_error: 2733006.0000\n",
      "Epoch 101/150\n",
      "17/17 [==============================] - 0s 1ms/step - loss: 133.8831 - mean_absolute_error: 133.8831 - mean_squared_error: 82541.6875 - val_loss: 1173.5311 - val_mean_absolute_error: 1173.5311 - val_mean_squared_error: 2908535.2500\n",
      "Epoch 102/150\n",
      "17/17 [==============================] - 0s 1ms/step - loss: 134.5113 - mean_absolute_error: 134.5113 - mean_squared_error: 83455.9297 - val_loss: 1190.9978 - val_mean_absolute_error: 1190.9978 - val_mean_squared_error: 2894918.5000\n",
      "Epoch 103/150\n",
      "17/17 [==============================] - 0s 1ms/step - loss: 138.3400 - mean_absolute_error: 138.3400 - mean_squared_error: 87273.5391 - val_loss: 1139.2520 - val_mean_absolute_error: 1139.2520 - val_mean_squared_error: 2789622.0000\n",
      "Epoch 104/150\n",
      "17/17 [==============================] - 0s 1ms/step - loss: 133.5710 - mean_absolute_error: 133.5710 - mean_squared_error: 83454.5625 - val_loss: 1170.3038 - val_mean_absolute_error: 1170.3038 - val_mean_squared_error: 2833738.0000\n",
      "Epoch 105/150\n",
      "17/17 [==============================] - 0s 1ms/step - loss: 136.6390 - mean_absolute_error: 136.6390 - mean_squared_error: 85275.8984 - val_loss: 1121.9084 - val_mean_absolute_error: 1121.9084 - val_mean_squared_error: 2726975.0000\n",
      "Epoch 106/150\n",
      "17/17 [==============================] - 0s 1ms/step - loss: 132.4920 - mean_absolute_error: 132.4920 - mean_squared_error: 81973.2422 - val_loss: 1205.7560 - val_mean_absolute_error: 1205.7560 - val_mean_squared_error: 3023509.5000\n",
      "Epoch 107/150\n",
      "17/17 [==============================] - 0s 1ms/step - loss: 136.8849 - mean_absolute_error: 136.8849 - mean_squared_error: 85389.1328 - val_loss: 1159.9219 - val_mean_absolute_error: 1159.9219 - val_mean_squared_error: 2805121.2500\n",
      "Epoch 108/150\n",
      " 1/17 [>.............................] - ETA: 0s - loss: 138.8652 - mean_absolute_error: 138.8652 - mean_squared_error: 79200.2031INFO:tensorflow:Assets written to: model_experiments\\model_1\\assets\n",
      "17/17 [==============================] - 0s 13ms/step - loss: 133.5060 - mean_absolute_error: 133.5060 - mean_squared_error: 82113.6406 - val_loss: 1118.9232 - val_mean_absolute_error: 1118.9232 - val_mean_squared_error: 2711697.7500\n",
      "Epoch 109/150\n",
      " 1/17 [>.............................] - ETA: 0s - loss: 141.9615 - mean_absolute_error: 141.9615 - mean_squared_error: 96301.4688INFO:tensorflow:Assets written to: model_experiments\\model_1\\assets\n",
      "17/17 [==============================] - 0s 13ms/step - loss: 137.9868 - mean_absolute_error: 137.9868 - mean_squared_error: 86732.9219 - val_loss: 1117.8003 - val_mean_absolute_error: 1117.8003 - val_mean_squared_error: 2709900.7500\n",
      "Epoch 110/150\n",
      "17/17 [==============================] - 0s 1ms/step - loss: 133.7301 - mean_absolute_error: 133.7301 - mean_squared_error: 82705.3672 - val_loss: 1118.9100 - val_mean_absolute_error: 1118.9100 - val_mean_squared_error: 2711642.7500\n",
      "Epoch 111/150\n",
      "17/17 [==============================] - 0s 1ms/step - loss: 133.4074 - mean_absolute_error: 133.4074 - mean_squared_error: 83108.7031 - val_loss: 1139.4036 - val_mean_absolute_error: 1139.4036 - val_mean_squared_error: 2752748.0000\n",
      "Epoch 112/150\n",
      "17/17 [==============================] - 0s 1ms/step - loss: 133.7707 - mean_absolute_error: 133.7707 - mean_squared_error: 82947.3203 - val_loss: 1126.4109 - val_mean_absolute_error: 1126.4109 - val_mean_squared_error: 2743521.7500\n",
      "Epoch 113/150\n",
      "17/17 [==============================] - 0s 1ms/step - loss: 134.4937 - mean_absolute_error: 134.4937 - mean_squared_error: 84012.9688 - val_loss: 1120.5182 - val_mean_absolute_error: 1120.5182 - val_mean_squared_error: 2713202.0000\n",
      "Epoch 114/150\n",
      " 1/17 [>.............................] - ETA: 0s - loss: 132.0834 - mean_absolute_error: 132.0834 - mean_squared_error: 96733.4453INFO:tensorflow:Assets written to: model_experiments\\model_1\\assets\n",
      "17/17 [==============================] - 0s 13ms/step - loss: 131.9547 - mean_absolute_error: 131.9547 - mean_squared_error: 81405.2109 - val_loss: 1117.7977 - val_mean_absolute_error: 1117.7977 - val_mean_squared_error: 2709439.0000\n",
      "Epoch 115/150\n",
      "17/17 [==============================] - 0s 1ms/step - loss: 132.4450 - mean_absolute_error: 132.4450 - mean_squared_error: 81641.4766 - val_loss: 1126.9054 - val_mean_absolute_error: 1126.9054 - val_mean_squared_error: 2725204.2500\n",
      "Epoch 116/150\n",
      "17/17 [==============================] - 0s 1ms/step - loss: 136.0517 - mean_absolute_error: 136.0517 - mean_squared_error: 84180.6328 - val_loss: 1269.2295 - val_mean_absolute_error: 1269.2295 - val_mean_squared_error: 3277660.2500\n",
      "Epoch 117/150\n",
      "17/17 [==============================] - 0s 1ms/step - loss: 145.2353 - mean_absolute_error: 145.2353 - mean_squared_error: 91989.4531 - val_loss: 1118.9718 - val_mean_absolute_error: 1118.9718 - val_mean_squared_error: 2713070.7500\n",
      "Epoch 118/150\n",
      "17/17 [==============================] - 0s 1ms/step - loss: 133.0352 - mean_absolute_error: 133.0352 - mean_squared_error: 82088.6719 - val_loss: 1126.5621 - val_mean_absolute_error: 1126.5621 - val_mean_squared_error: 2724827.7500\n",
      "Epoch 119/150\n",
      "17/17 [==============================] - 0s 1ms/step - loss: 135.2659 - mean_absolute_error: 135.2659 - mean_squared_error: 83102.9688 - val_loss: 1203.9233 - val_mean_absolute_error: 1203.9233 - val_mean_squared_error: 3019093.7500\n",
      "Epoch 120/150\n",
      "17/17 [==============================] - 0s 1ms/step - loss: 138.2880 - mean_absolute_error: 138.2880 - mean_squared_error: 85167.8672 - val_loss: 1217.6956 - val_mean_absolute_error: 1217.6956 - val_mean_squared_error: 2980287.0000\n",
      "Epoch 121/150\n",
      " 1/17 [>.............................] - ETA: 0s - loss: 153.5906 - mean_absolute_error: 153.5906 - mean_squared_error: 98660.6250INFO:tensorflow:Assets written to: model_experiments\\model_1\\assets\n",
      "17/17 [==============================] - 0s 13ms/step - loss: 137.0296 - mean_absolute_error: 137.0296 - mean_squared_error: 83593.4062 - val_loss: 1117.4622 - val_mean_absolute_error: 1117.4622 - val_mean_squared_error: 2705361.0000\n",
      "Epoch 122/150\n",
      "17/17 [==============================] - 0s 1ms/step - loss: 131.5568 - mean_absolute_error: 131.5568 - mean_squared_error: 81385.6172 - val_loss: 1119.9061 - val_mean_absolute_error: 1119.9061 - val_mean_squared_error: 2708393.0000\n",
      "Epoch 123/150\n",
      "17/17 [==============================] - 0s 1ms/step - loss: 134.0464 - mean_absolute_error: 134.0464 - mean_squared_error: 81891.6250 - val_loss: 1184.3505 - val_mean_absolute_error: 1184.3505 - val_mean_squared_error: 2943914.2500\n",
      "Epoch 124/150\n",
      " 1/17 [>.............................] - ETA: 0s - loss: 132.9571 - mean_absolute_error: 132.9571 - mean_squared_error: 87655.1875INFO:tensorflow:Assets written to: model_experiments\\model_1\\assets\n",
      "17/17 [==============================] - 0s 13ms/step - loss: 132.7892 - mean_absolute_error: 132.7892 - mean_squared_error: 81732.0547 - val_loss: 1116.0835 - val_mean_absolute_error: 1116.0835 - val_mean_squared_error: 2699108.5000\n",
      "Epoch 125/150\n",
      "17/17 [==============================] - 0s 1ms/step - loss: 134.4553 - mean_absolute_error: 134.4553 - mean_squared_error: 83100.7734 - val_loss: 1117.5980 - val_mean_absolute_error: 1117.5980 - val_mean_squared_error: 2703245.5000\n",
      "Epoch 126/150\n",
      "17/17 [==============================] - 0s 1ms/step - loss: 132.5838 - mean_absolute_error: 132.5838 - mean_squared_error: 81686.5938 - val_loss: 1208.2220 - val_mean_absolute_error: 1208.2220 - val_mean_squared_error: 3036098.2500\n",
      "Epoch 127/150\n",
      "17/17 [==============================] - 0s 1ms/step - loss: 141.5478 - mean_absolute_error: 141.5478 - mean_squared_error: 84837.2969 - val_loss: 1360.6914 - val_mean_absolute_error: 1360.6914 - val_mean_squared_error: 3664848.7500\n",
      "Epoch 128/150\n",
      "17/17 [==============================] - 0s 1ms/step - loss: 142.4644 - mean_absolute_error: 142.4644 - mean_squared_error: 86189.8750 - val_loss: 1167.9868 - val_mean_absolute_error: 1167.9868 - val_mean_squared_error: 2884178.0000\n",
      "Epoch 129/150\n",
      "17/17 [==============================] - 0s 1ms/step - loss: 134.6173 - mean_absolute_error: 134.6173 - mean_squared_error: 81172.5938 - val_loss: 1148.1978 - val_mean_absolute_error: 1148.1978 - val_mean_squared_error: 2770882.2500\n",
      "Epoch 130/150\n",
      "17/17 [==============================] - 0s 1ms/step - loss: 133.4712 - mean_absolute_error: 133.4712 - mean_squared_error: 81562.6172 - val_loss: 1132.6415 - val_mean_absolute_error: 1132.6415 - val_mean_squared_error: 2759403.0000\n",
      "Epoch 131/150\n",
      "17/17 [==============================] - 0s 1ms/step - loss: 139.2167 - mean_absolute_error: 139.2167 - mean_squared_error: 84982.5625 - val_loss: 1131.5653 - val_mean_absolute_error: 1131.5653 - val_mean_squared_error: 2755777.5000\n",
      "Epoch 132/150\n",
      "17/17 [==============================] - 0s 1ms/step - loss: 133.3059 - mean_absolute_error: 133.3059 - mean_squared_error: 82802.8594 - val_loss: 1137.3269 - val_mean_absolute_error: 1137.3269 - val_mean_squared_error: 2742590.5000\n",
      "Epoch 133/150\n",
      "17/17 [==============================] - 0s 1ms/step - loss: 133.2590 - mean_absolute_error: 133.2590 - mean_squared_error: 82237.6562 - val_loss: 1125.8636 - val_mean_absolute_error: 1125.8636 - val_mean_squared_error: 2735916.7500\n",
      "Epoch 134/150\n",
      "17/17 [==============================] - 0s 1ms/step - loss: 139.3577 - mean_absolute_error: 139.3577 - mean_squared_error: 84642.1016 - val_loss: 1157.1021 - val_mean_absolute_error: 1157.1021 - val_mean_squared_error: 2844280.2500\n",
      "Epoch 135/150\n",
      "17/17 [==============================] - 0s 1ms/step - loss: 136.8367 - mean_absolute_error: 136.8367 - mean_squared_error: 81882.2109 - val_loss: 1248.7866 - val_mean_absolute_error: 1248.7866 - val_mean_squared_error: 3079413.7500\n",
      "Epoch 136/150\n",
      "17/17 [==============================] - 0s 1ms/step - loss: 139.7017 - mean_absolute_error: 139.7017 - mean_squared_error: 83867.8281 - val_loss: 1154.8993 - val_mean_absolute_error: 1154.8993 - val_mean_squared_error: 2836525.2500\n",
      "Epoch 137/150\n",
      "17/17 [==============================] - 0s 1ms/step - loss: 136.2418 - mean_absolute_error: 136.2418 - mean_squared_error: 84338.9453 - val_loss: 1124.6278 - val_mean_absolute_error: 1124.6278 - val_mean_squared_error: 2729334.0000\n",
      "Epoch 138/150\n",
      " 1/17 [>.............................] - ETA: 0s - loss: 107.3704 - mean_absolute_error: 107.3704 - mean_squared_error: 32001.0781INFO:tensorflow:Assets written to: model_experiments\\model_1\\assets\n",
      "17/17 [==============================] - 0s 19ms/step - loss: 132.4756 - mean_absolute_error: 132.4756 - mean_squared_error: 82273.8516 - val_loss: 1116.0568 - val_mean_absolute_error: 1116.0568 - val_mean_squared_error: 2693595.5000\n",
      "Epoch 139/150\n",
      "17/17 [==============================] - 0s 1ms/step - loss: 132.3543 - mean_absolute_error: 132.3543 - mean_squared_error: 81761.7031 - val_loss: 1120.9987 - val_mean_absolute_error: 1120.9987 - val_mean_squared_error: 2713737.7500\n",
      "Epoch 140/150\n",
      "17/17 [==============================] - 0s 1ms/step - loss: 132.3716 - mean_absolute_error: 132.3716 - mean_squared_error: 81855.4922 - val_loss: 1150.9041 - val_mean_absolute_error: 1150.9041 - val_mean_squared_error: 2818675.5000\n",
      "Epoch 141/150\n",
      "17/17 [==============================] - 0s 1ms/step - loss: 136.9514 - mean_absolute_error: 136.9514 - mean_squared_error: 83210.0625 - val_loss: 1250.1270 - val_mean_absolute_error: 1250.1270 - val_mean_squared_error: 3200588.0000\n",
      "Epoch 142/150\n",
      "17/17 [==============================] - 0s 1ms/step - loss: 138.7185 - mean_absolute_error: 138.7185 - mean_squared_error: 82790.2031 - val_loss: 1131.1554 - val_mean_absolute_error: 1131.1554 - val_mean_squared_error: 2748818.2500\n",
      "Epoch 143/150\n",
      "17/17 [==============================] - 0s 1ms/step - loss: 132.8410 - mean_absolute_error: 132.8410 - mean_squared_error: 82293.8672 - val_loss: 1185.5248 - val_mean_absolute_error: 1185.5248 - val_mean_squared_error: 2945775.0000\n",
      "Epoch 144/150\n",
      "17/17 [==============================] - 0s 1ms/step - loss: 142.5268 - mean_absolute_error: 142.5268 - mean_squared_error: 86956.7422 - val_loss: 1280.8624 - val_mean_absolute_error: 1280.8624 - val_mean_squared_error: 3187085.2500\n",
      "Epoch 145/150\n",
      "17/17 [==============================] - 0s 1ms/step - loss: 139.3251 - mean_absolute_error: 139.3251 - mean_squared_error: 83975.7891 - val_loss: 1239.5400 - val_mean_absolute_error: 1239.5400 - val_mean_squared_error: 3048513.7500\n",
      "Epoch 146/150\n",
      " 1/17 [>.............................] - ETA: 0s - loss: 138.9167 - mean_absolute_error: 138.9167 - mean_squared_error: 77498.3438INFO:tensorflow:Assets written to: model_experiments\\model_1\\assets\n",
      "17/17 [==============================] - 0s 13ms/step - loss: 136.2427 - mean_absolute_error: 136.2427 - mean_squared_error: 82710.3516 - val_loss: 1115.9766 - val_mean_absolute_error: 1115.9766 - val_mean_squared_error: 2689913.7500\n",
      "Epoch 147/150\n",
      "17/17 [==============================] - 0s 1ms/step - loss: 137.5472 - mean_absolute_error: 137.5472 - mean_squared_error: 84484.6328 - val_loss: 1178.3206 - val_mean_absolute_error: 1178.3206 - val_mean_squared_error: 2858005.0000\n",
      "Epoch 148/150\n",
      " 1/17 [>.............................] - ETA: 0s - loss: 98.1603 - mean_absolute_error: 98.1603 - mean_squared_error: 32441.3145INFO:tensorflow:Assets written to: model_experiments\\model_1\\assets\n",
      "17/17 [==============================] - 0s 13ms/step - loss: 135.4415 - mean_absolute_error: 135.4415 - mean_squared_error: 83777.2031 - val_loss: 1115.6842 - val_mean_absolute_error: 1115.6842 - val_mean_squared_error: 2688229.7500\n",
      "Epoch 149/150\n",
      "17/17 [==============================] - 0s 1ms/step - loss: 133.4517 - mean_absolute_error: 133.4517 - mean_squared_error: 82784.5625 - val_loss: 1115.8158 - val_mean_absolute_error: 1115.8158 - val_mean_squared_error: 2690021.7500\n",
      "Epoch 150/150\n",
      "17/17 [==============================] - 0s 1ms/step - loss: 132.0888 - mean_absolute_error: 132.0888 - mean_squared_error: 81721.3750 - val_loss: 1123.3474 - val_mean_absolute_error: 1123.3474 - val_mean_squared_error: 2720431.5000\n"
     ]
    },
    {
     "data": {
      "text/plain": [
       "<keras.callbacks.History at 0x25e4c989640>"
      ]
     },
     "execution_count": 26,
     "metadata": {},
     "output_type": "execute_result"
    }
   ],
   "source": [
    "# Dense model with window = 7, horizon = 1\n",
    "\n",
    "from tensorflow.keras import layers\n",
    "tf.random.set_seed(42)\n",
    "\n",
    "# Construct model\n",
    "\n",
    "model = tf.keras.Sequential()\n",
    "model.add(layers.Dense(128, activation = \"relu\"))\n",
    "model.add(layers.Dense(HORIZON, activation=\"linear\"))\n",
    "\n",
    "# Compile the model\n",
    "model.compile(loss=tf.keras.losses.mae,\n",
    "              optimizer=tf.keras.optimizers.Adam(),\n",
    "              metrics=[tf.keras.losses.mae,tf.keras.losses.mse]\n",
    "             )\n",
    "\n",
    "model.fit(x_train, \n",
    "          y_train, \n",
    "          epochs = 150, \n",
    "          callbacks = [create_model_checkpoint(\"model_1\")],\n",
    "          validation_data = (x_test, y_test),\n",
    "          batch_size = 128\n",
    "         )"
   ]
  },
  {
   "cell_type": "code",
   "execution_count": 27,
   "id": "a279986c",
   "metadata": {},
   "outputs": [
    {
     "name": "stdout",
     "output_type": "stream",
     "text": [
      "17/17 [==============================] - 0s 438us/step - loss: 1123.3475 - mean_absolute_error: 1123.3475 - mean_squared_error: 2720431.5000\n"
     ]
    },
    {
     "data": {
      "text/plain": [
       "[1123.3475341796875, 1123.3475341796875, 2720431.5]"
      ]
     },
     "execution_count": 27,
     "metadata": {},
     "output_type": "execute_result"
    }
   ],
   "source": [
    "model.evaluate(x_test, y_test)"
   ]
  },
  {
   "cell_type": "code",
   "execution_count": 28,
   "id": "52fbbf0d",
   "metadata": {},
   "outputs": [
    {
     "name": "stdout",
     "output_type": "stream",
     "text": [
      "17/17 [==============================] - 0s 438us/step - loss: 1115.6842 - mean_absolute_error: 1115.6842 - mean_squared_error: 2688229.7500\n"
     ]
    },
    {
     "data": {
      "text/plain": [
       "[1115.6842041015625, 1115.6842041015625, 2688229.75]"
      ]
     },
     "execution_count": 28,
     "metadata": {},
     "output_type": "execute_result"
    }
   ],
   "source": [
    "# Load in the saved best performing model\n",
    "model = tf.keras.models.load_model(\"model_experiments/model_1/\")\n",
    "model.evaluate(x_test, y_test)"
   ]
  },
  {
   "cell_type": "code",
   "execution_count": 29,
   "id": "fd48612a",
   "metadata": {},
   "outputs": [],
   "source": [
    "def make_preds(model, input_data):\n",
    "    \"\"\"Uses model to make predictions on input data\"\"\"\n",
    "    forecast = model.predict(input_data)\n",
    "    return tf.squeeze(forecast) # Return 1d array of predictions\n",
    "\n",
    "preds = make_preds(model, x_test)"
   ]
  },
  {
   "cell_type": "code",
   "execution_count": 30,
   "id": "a7f2bb22",
   "metadata": {},
   "outputs": [
    {
     "data": {
      "text/plain": [
       "<tf.Tensor: shape=(10,), dtype=float32, numpy=\n",
       "array([11201.985 , 11217.758 , 11206.853 , 11739.189 , 11767.798 ,\n",
       "       11681.311 , 11757.218 , 11744.402 , 11888.179 , 11460.9375],\n",
       "      dtype=float32)>"
      ]
     },
     "execution_count": 30,
     "metadata": {},
     "output_type": "execute_result"
    }
   ],
   "source": [
    "preds[:10]"
   ]
  },
  {
   "cell_type": "code",
   "execution_count": 31,
   "id": "f2e58844",
   "metadata": {},
   "outputs": [
    {
     "data": {
      "text/plain": [
       "{'MAE': 1115.6843,\n",
       " 'MSE': 2688230.5,\n",
       " 'RMSE': 1639.5824,\n",
       " 'MAPE': 2.8194284,\n",
       " 'MASE': 1.1095614}"
      ]
     },
     "execution_count": 31,
     "metadata": {},
     "output_type": "execute_result"
    }
   ],
   "source": [
    "evaluate_preds(preds, tf.squeeze(y_test))"
   ]
  },
  {
   "cell_type": "code",
   "execution_count": 32,
   "id": "b7b49a1a",
   "metadata": {},
   "outputs": [
    {
     "data": {
      "image/png": "[encoded data removed]",
      "text/plain": [
       "<Figure size 1080x576 with 1 Axes>"
      ]
     },
     "metadata": {
      "needs_background": "light"
     },
     "output_type": "display_data"
    }
   ],
   "source": [
    "plt.figure(figsize=(15,8))\n",
    "offset = 450\n",
    "plot_series(timesteps = timesteps[-len(x_test):], \n",
    "            values=y_test[:,0],\n",
    "            start=offset,\n",
    "            label = \"Actual\"\n",
    "           )\n",
    "plot_series(timesteps = timesteps[-len(x_test):], \n",
    "            values=preds,\n",
    "            start=offset,\n",
    "            label=\"Preds\",\n",
    "            format=\"-\"\n",
    "           )"
   ]
  },
  {
   "cell_type": "code",
   "execution_count": 33,
   "id": "f38b91f4",
   "metadata": {},
   "outputs": [
    {
     "name": "stdout",
     "output_type": "stream",
     "text": [
      "[  324.467934   328.644408   337.921358 ... 43107.257821 41534.350712\n",
      " 41687.227593]\n"
     ]
    },
    {
     "data": {
      "text/plain": [
       "(2594, 2594)"
      ]
     },
     "execution_count": 33,
     "metadata": {},
     "output_type": "execute_result"
    }
   ],
   "source": [
    "# model 2 (window = 30, horizon = 1)\n",
    "\n",
    "HORIZON = 1\n",
    "WINDOW_SIZE = 30\n",
    "\n",
    "full_windows, full_labels = make_windows(prices, window_size= WINDOW_SIZE, horizon=HORIZON)\n",
    "\n",
    "len(full_windows),len(full_labels)\n"
   ]
  },
  {
   "cell_type": "code",
   "execution_count": 34,
   "id": "01aa8195",
   "metadata": {},
   "outputs": [],
   "source": [
    "x_train = full_windows[:int(0.8*len(full_windows))]\n",
    "y_train = full_labels[:int(0.8*len(full_labels))]\n",
    "\n",
    "x_test = full_windows[int(0.8*len(full_windows)):]\n",
    "y_test = full_labels[int(0.8*len(full_labels)):]"
   ]
  },
  {
   "cell_type": "code",
   "execution_count": 35,
   "id": "56c494d5",
   "metadata": {
    "scrolled": true
   },
   "outputs": [
    {
     "name": "stdout",
     "output_type": "stream",
     "text": [
      "INFO:tensorflow:Assets written to: model_experiments\\model_2\\assets\n",
      "INFO:tensorflow:Assets written to: model_experiments\\model_2\\assets\n",
      "INFO:tensorflow:Assets written to: model_experiments\\model_2\\assets\n",
      "INFO:tensorflow:Assets written to: model_experiments\\model_2\\assets\n",
      "INFO:tensorflow:Assets written to: model_experiments\\model_2\\assets\n",
      "INFO:tensorflow:Assets written to: model_experiments\\model_2\\assets\n",
      "INFO:tensorflow:Assets written to: model_experiments\\model_2\\assets\n",
      "INFO:tensorflow:Assets written to: model_experiments\\model_2\\assets\n",
      "INFO:tensorflow:Assets written to: model_experiments\\model_2\\assets\n",
      "INFO:tensorflow:Assets written to: model_experiments\\model_2\\assets\n",
      "INFO:tensorflow:Assets written to: model_experiments\\model_2\\assets\n",
      "INFO:tensorflow:Assets written to: model_experiments\\model_2\\assets\n",
      "INFO:tensorflow:Assets written to: model_experiments\\model_2\\assets\n",
      "INFO:tensorflow:Assets written to: model_experiments\\model_2\\assets\n",
      "INFO:tensorflow:Assets written to: model_experiments\\model_2\\assets\n",
      "INFO:tensorflow:Assets written to: model_experiments\\model_2\\assets\n",
      "INFO:tensorflow:Assets written to: model_experiments\\model_2\\assets\n",
      "INFO:tensorflow:Assets written to: model_experiments\\model_2\\assets\n",
      "INFO:tensorflow:Assets written to: model_experiments\\model_2\\assets\n",
      "INFO:tensorflow:Assets written to: model_experiments\\model_2\\assets\n",
      "INFO:tensorflow:Assets written to: model_experiments\\model_2\\assets\n",
      "INFO:tensorflow:Assets written to: model_experiments\\model_2\\assets\n",
      "INFO:tensorflow:Assets written to: model_experiments\\model_2\\assets\n",
      "INFO:tensorflow:Assets written to: model_experiments\\model_2\\assets\n",
      "INFO:tensorflow:Assets written to: model_experiments\\model_2\\assets\n",
      "INFO:tensorflow:Assets written to: model_experiments\\model_2\\assets\n",
      "INFO:tensorflow:Assets written to: model_experiments\\model_2\\assets\n",
      "INFO:tensorflow:Assets written to: model_experiments\\model_2\\assets\n",
      "INFO:tensorflow:Assets written to: model_experiments\\model_2\\assets\n",
      "INFO:tensorflow:Assets written to: model_experiments\\model_2\\assets\n",
      "INFO:tensorflow:Assets written to: model_experiments\\model_2\\assets\n",
      "INFO:tensorflow:Assets written to: model_experiments\\model_2\\assets\n",
      "INFO:tensorflow:Assets written to: model_experiments\\model_2\\assets\n",
      "INFO:tensorflow:Assets written to: model_experiments\\model_2\\assets\n"
     ]
    },
    {
     "data": {
      "text/plain": [
       "<keras.callbacks.History at 0x25e5928a250>"
      ]
     },
     "execution_count": 35,
     "metadata": {},
     "output_type": "execute_result"
    }
   ],
   "source": [
    "model_2 = tf.keras.Sequential(name=\"model_2\")\n",
    "model_2.add(tf.keras.layers.Dense(128, activation=\"relu\"))\n",
    "# model_2.add(tf.keras.layers.Dense(10, activation=\"relu\"))\n",
    "model_2.add(tf.keras.layers.Dense(HORIZON))\n",
    "\n",
    "model_2.compile(loss=\"mae\",optimizer=tf.keras.optimizers.Adam())\n",
    "\n",
    "model_2.fit(x_train, y_train, epochs = 100, batch_size=128, verbose = 0,\n",
    "            validation_data = (x_test, y_test),\n",
    "            callbacks=[create_model_checkpoint(model_2.name)]\n",
    "           )"
   ]
  },
  {
   "cell_type": "code",
   "execution_count": 36,
   "id": "1b6577fc",
   "metadata": {},
   "outputs": [
    {
     "name": "stdout",
     "output_type": "stream",
     "text": [
      "17/17 [==============================] - 0s 375us/step - loss: 1177.5845\n"
     ]
    },
    {
     "data": {
      "text/plain": [
       "1177.58447265625"
      ]
     },
     "execution_count": 36,
     "metadata": {},
     "output_type": "execute_result"
    }
   ],
   "source": [
    "model_2.evaluate(x_test, y_test)"
   ]
  },
  {
   "cell_type": "code",
   "execution_count": 37,
   "id": "77e935e6",
   "metadata": {},
   "outputs": [
    {
     "name": "stdout",
     "output_type": "stream",
     "text": [
      "17/17 [==============================] - 0s 438us/step - loss: 1172.0255\n"
     ]
    },
    {
     "data": {
      "text/plain": [
       "1172.0255126953125"
      ]
     },
     "execution_count": 37,
     "metadata": {},
     "output_type": "execute_result"
    }
   ],
   "source": [
    "model_2 = tf.keras.models.load_model('model_experiments/model_2/')\n",
    "model_2.evaluate(x_test, y_test)"
   ]
  },
  {
   "cell_type": "code",
   "execution_count": 38,
   "id": "08dee1ff",
   "metadata": {},
   "outputs": [
    {
     "data": {
      "image/png": "[encoded data removed]",
      "text/plain": [
       "<Figure size 1080x576 with 1 Axes>"
      ]
     },
     "metadata": {
      "needs_background": "light"
     },
     "output_type": "display_data"
    }
   ],
   "source": [
    "preds = model_2.predict(x_test)\n",
    "\n",
    "plt.figure(figsize=(15,8))\n",
    "offset = 450\n",
    "plot_series(timesteps = timesteps[-len(x_test):], \n",
    "            values=y_test[:,0],\n",
    "            start=offset,\n",
    "            label = \"Actual\"\n",
    "           )\n",
    "plot_series(timesteps = timesteps[-len(x_test):], \n",
    "            values=preds,\n",
    "            start=offset,\n",
    "            label=\"Preds\",\n",
    "            format=\"-\"\n",
    "           )"
   ]
  },
  {
   "cell_type": "code",
   "execution_count": null,
   "id": "e2519057",
   "metadata": {},
   "outputs": [],
   "source": []
  },
  {
   "cell_type": "code",
   "execution_count": null,
   "id": "1ccf4a08",
   "metadata": {},
   "outputs": [],
   "source": []
  },
  {
   "cell_type": "code",
   "execution_count": null,
   "id": "0acb5537",
   "metadata": {},
   "outputs": [],
   "source": []
  }
 ],
 "metadata": {
  "kernelspec": {
   "display_name": "Python 3 (ipykernel)",
   "language": "python",
   "name": "python3"
  },
  "language_info": {
   "codemirror_mode": {
    "name": "ipython",
    "version": 3
   },
   "file_extension": ".py",
   "mimetype": "text/x-python",
   "name": "python",
   "nbconvert_exporter": "python",
   "pygments_lexer": "ipython3",
   "version": "3.8.8"
  }
 },
 "nbformat": 4,
 "nbformat_minor": 5
}
